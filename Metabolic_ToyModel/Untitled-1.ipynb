{
 "cells": [
  {
   "cell_type": "code",
   "execution_count": 1,
   "metadata": {},
   "outputs": [],
   "source": [
    "# -------------- PART 0: PYTHON PRELIM --------------\n",
    "\n",
    "# Additional notes: \n",
    "# mosa.py evolve() function has been edited to return final stopping temperature\n",
    "\n",
    "# Import packages\n",
    "import importlib\n",
    "import os\n",
    "import time\n",
    "from tqdm import tqdm\n",
    "import itertools\n",
    "import numpy as np\n",
    "import json\n",
    "import mosa\n",
    "import matplotlib.pyplot as plt\n",
    "import pyvista as pv\n",
    "from mpl_toolkits.mplot3d.art3d import Poly3DCollection\n",
    "import matplotlib.patches as mpatches\n",
    "import matplotlib.lines as mlines\n",
    "from scipy.optimize import fsolve\n",
    "from scipy.integrate import solve_ivp\n",
    "from numpy import random\n",
    "import pandas as pd"
   ]
  },
  {
   "cell_type": "code",
   "execution_count": 2,
   "metadata": {},
   "outputs": [
    {
     "name": "stdout",
     "output_type": "stream",
     "text": [
      "Current working directory: /Users/nt625/Documents/GitHub/My5thMOSArepository_plsdontcrash/Metabolic_ToyModel/MOSA_ToyModel\n"
     ]
    }
   ],
   "source": [
    "# -------------- PART 0: CHOOSE CIRCUIT AND SET UP FOLDER --------------\n",
    "\n",
    "\n",
    "# Choose circuit\n",
    "circuit = \"ToyModel\"\n",
    "\n",
    "# Import circuit config file\n",
    "config = importlib.import_module(circuit)\n",
    "\n",
    "# Define the subfolder name\n",
    "folder_name = f\"MOSA_{circuit}\"\n",
    "\n",
    "# Create folder if not yet exist\n",
    "if not os.path.exists(folder_name):\n",
    "    os.makedirs(folder_name)\n",
    "\n",
    "# Jump to folder\n",
    "os.chdir(folder_name)\n",
    "\n",
    "# Prompt new folder name\n",
    "print(f\"Current working directory: {os.getcwd()}\")"
   ]
  },
  {
   "cell_type": "code",
   "execution_count": 3,
   "metadata": {},
   "outputs": [],
   "source": [
    "# -------------- PART 0b: DEFINE DYNAMICAL SYSTEM --------------\n",
    "\n",
    "# Import ODEs\n",
    "Equ1 = config.Equ1\n",
    "Equ2 = config.Equ2\n",
    "Equ3 = config.Equ3\n",
    "Equ4 = config.Equ4\n",
    "    \n",
    "# Define function to evaluate vector field\n",
    "def Equs(P, t, params):\n",
    "    x0 = P[0]\n",
    "    x1 = P[1]\n",
    "    e1 = P[2]\n",
    "    e2 = P[3]\n",
    "    k1 = params[0]\n",
    "    k2 = params[1]\n",
    "    theta1 = params[2]\n",
    "    theta2 = params[3]\n",
    "    val0 = Equ1(x0, e1)\n",
    "    val1 = Equ2(x0, x1, e1, e2)\n",
    "    val2 = Equ3(x1, e1, k1, theta1)\n",
    "    val3 = Equ4(x1, e2, k2, theta2)\n",
    "    return np.array([val0, val1, val2, val3])\n",
    "\n",
    "# Define initial time\n",
    "t = 0.0"
   ]
  },
  {
   "cell_type": "code",
   "execution_count": 4,
   "metadata": {},
   "outputs": [],
   "source": [
    "# -------------- PART 0c: DEFINE SENSITIVITY FUNCTIONS --------------\n",
    "\n",
    "\n",
    "# Define analytical sensitivity expressions\n",
    "S_k1_x1_analytic = config.S_k1_x1_analytic\n",
    "S_k2_x1_analytic = config.S_k2_x1_analytic"
   ]
  },
  {
   "cell_type": "code",
   "execution_count": 5,
   "metadata": {},
   "outputs": [
    {
     "name": "stdout",
     "output_type": "stream",
     "text": [
      "\n",
      "We have the following sensitivity functions:\n",
      "0. |S_k1_x1|\n",
      "1. |S_k2_x1|\n",
      "2. |S_theta1_x1|\n",
      "3. |S_theta2_x1|\n",
      "\n",
      "Only 0 and 1 are available now.\n",
      "\n"
     ]
    }
   ],
   "source": [
    "# -------------- PART 0d: CHOOSE SENSITIVITY FUNCTIONS --------------\n",
    "\n",
    "\n",
    "# Print prompt\n",
    "print(\"\"\"\n",
    "We have the following sensitivity functions:\n",
    "0. |S_k1_x1|\n",
    "1. |S_k2_x1|\n",
    "2. |S_theta1_x1|\n",
    "3. |S_theta2_x1|\n",
    "\n",
    "Only 0 and 1 are available now.\n",
    "\"\"\")\n",
    "\n",
    "# Choose pair of functions\n",
    "choice1 = int(input(\"Please select first option number:\"))\n",
    "choice2 = int(input(\"Please select second option number:\"))\n",
    "\n",
    "# List of sensitivity function names\n",
    "sensitivity_labels = [\n",
    "    \"|S_k1_x1|\",\n",
    "    \"|S_k2_x1|\",\n",
    "    \"|S_theta1_x1|\",\n",
    "    \"|S_theta2_x1|\"]\n",
    "\n",
    "# Save function names for later use\n",
    "label1 = sensitivity_labels[choice1]\n",
    "label2 = sensitivity_labels[choice2]\n",
    "\n",
    "# Name for text file to records stats\n",
    "output_file = f\"Metabolic1_{choice1}_and_{choice2}.csv\""
   ]
  },
  {
   "cell_type": "code",
   "execution_count": 6,
   "metadata": {},
   "outputs": [
    {
     "name": "stdout",
     "output_type": "stream",
     "text": [
      "Current working directory: /Users/nt625/Documents/GitHub/My5thMOSArepository_plsdontcrash/Metabolic_ToyModel/MOSA_ToyModel/MOSA_sensfuncs_0_and_1\n"
     ]
    }
   ],
   "source": [
    "# -------------- PART 0e: CHANGING DIRECTORIES --------------\n",
    "\n",
    "\n",
    "# Define the subfolder name\n",
    "subfolder_name = f\"MOSA_sensfuncs_{choice1}_and_{choice2}\"\n",
    "\n",
    "# Create folder if not yet exist\n",
    "if not os.path.exists(subfolder_name):\n",
    "    os.makedirs(subfolder_name)\n",
    "\n",
    "# Jump to folder\n",
    "os.chdir(subfolder_name)\n",
    "\n",
    "# Prompt new folder name\n",
    "print(f\"Current working directory: {os.getcwd()}\")\n",
    "\n",
    "if not os.path.exists('data'):\n",
    "    os.makedirs('data')\n"
   ]
  },
  {
   "cell_type": "code",
   "execution_count": 14,
   "metadata": {},
   "outputs": [],
   "source": [
    "# -------------- PART 0f: DEFINE FUNCTIONS --------------\n",
    "\n",
    "\n",
    "# DEFINE FUNCTION THAT SOLVES FOR STEADY STATE OBSERVABLES TO BE MINIMISED BY MOSA\n",
    "\n",
    "def ssfinder(k1_val, k2_val, theta1_val, theta2_val):\n",
    "    # Define initial guesses (assumes a config function exists that gives them)\n",
    "    InitGuesses = config.generate_initial_guesses()\n",
    "    \n",
    "    # Define parameter array\n",
    "    params = np.array([k1_val, k2_val, theta1_val, theta2_val])\n",
    "    \n",
    "    # Loop through all guesses\n",
    "    for InitGuess in InitGuesses:\n",
    "        # Solve for steady state\n",
    "        output, infodict, intflag, ier = fsolve(Equs, InitGuess, args=(0, params), xtol=1e-12, full_output=True)\n",
    "\n",
    "        # print(\"fsolve output: \", output)\n",
    "        # print(\"infodict: \", infodict)\n",
    "        # print(\"intflag: \", intflag)\n",
    "        # print(\"ier: \", ier)\n",
    "        \n",
    "        x0ss, x1ss, e1ss, e2ss = output\n",
    "        fvec = infodict['fvec'] #divergence\n",
    "        \n",
    "        # Check Jacobian for stability\n",
    "        delta = 1e-8\n",
    "        J = np.zeros((4, 4))\n",
    "        for i in range(4):\n",
    "            dP = np.zeros(4)\n",
    "            dP[i] = delta\n",
    "            J[:, i] = (Equs(output + dP, 0, params) - Equs(output, 0, params)) / delta\n",
    "        \n",
    "        eigvals = np.linalg.eigvals(J)\n",
    "        unstable = np.any(np.real(eigvals) >= 0)\n",
    "        \n",
    "        # Check if steady state is valid\n",
    "        if np.all(output >= 0) and np.linalg.norm(fvec) < 1e-10 and intflag == 1 and not unstable:\n",
    "            return x0ss, x1ss, e1ss, e2ss\n",
    "\n",
    "    # Return NaNs if no valid steady state is found\n",
    "    return float('nan'), float('nan'), float('nan'), float('nan')\n",
    "    \n",
    "        \n",
    "# DEFINE FUNCTION THAT RETURNS PAIR OF SENSITIVITIES\n",
    "def senpair(x0ss_val, x1ss_val, e1ss_val, e2ss_val, k1_val, k2_val, theta1_val, theta2_val, choice1, choice2):\n",
    "    \n",
    "    # Evaluate sensitivities\n",
    "    S_k1_x1 = S_k1_x1_analytic(x0ss_val, x1ss_val, e1ss_val, e2ss_val, k1_val, k2_val, theta1_val, theta2_val)\n",
    "    S_k2_x1 = S_k2_x1_analytic(x0ss_val, x1ss_val, e1ss_val, e2ss_val, k1_val, k2_val, theta1_val, theta2_val)\n",
    "\n",
    "    # Sensitivity dictionary\n",
    "    sensitivities = {\n",
    "        \"S_k1_x1\": S_k1_x1,\n",
    "        \"S_k2_x1\": S_k2_x1}\n",
    "\n",
    "    # Map indices to keys\n",
    "    labels = {\n",
    "        0: \"S_k1_x1\",\n",
    "        1: \"S_k2_x1\"}\n",
    "\n",
    "    # Return values of the two sensitivities of interest\n",
    "    return sensitivities[labels[choice1]], sensitivities[labels[choice2]]\n",
    "\n",
    "# DEFINE OBJECTIVE FUNCTION TO ANNEAL\n",
    "def fobj(solution):\n",
    "\t\n",
    "\t# Update parameter set\n",
    "    k1_val = solution[\"k1\"]\n",
    "    k2_val = solution[\"k2\"]\n",
    "    theta1_val = solution[\"theta1\"]\n",
    "    theta2_val = solution[\"theta2\"]\n",
    "    \n",
    "    print(\"params\")\n",
    "    print([k1_val, k2_val, theta1_val, theta2_val])\n",
    "\n",
    "    # Find steady states and store.\n",
    "    x0ss_val, x1ss_val, e1ss_val, e2ss_val = ssfinder(k1_val, k2_val, theta1_val, theta2_val)\n",
    "    if np.isnan(x0ss_val) or np.isnan(x1ss_val) or np.isnan(e1ss_val) or np.isnan(e2ss_val):\n",
    "        return np.inf, np.inf, np.inf\n",
    "    \n",
    "    # Get sensitivity pair\n",
    "    sens1, sens2 = senpair(x0ss_val, x1ss_val, e1ss_val, e2ss_val, k1_val, k2_val, theta1_val, theta2_val, choice1, choice2)\n",
    "    ans1 = float(sens1)\n",
    "    ans2 = float(sens2)\n",
    "    \n",
    "    \n",
    "    #-------------------- J -----------------------\n",
    "\n",
    "    # Constants\n",
    "    V_in = 1\n",
    "    k_cat = 12\n",
    "    k_m = 10\n",
    "    \n",
    "    # Known steady state \n",
    "    steady_state = np.array([x0ss_val, x1ss_val, e1ss_val, e2ss_val])\n",
    "    \n",
    "    # Tolerance for closeness to steady state\n",
    "    tol = 1e-4\n",
    "    \n",
    "    # Event function to stop integration\n",
    "    def steady_state_event(t, y, params):\n",
    "        diff = y - steady_state\n",
    "        if np.linalg.norm(diff) <= tol:\n",
    "            return 0\n",
    "        return 1\n",
    "    \n",
    "    steady_state_event.terminal = True  # stop the integration\n",
    "    steady_state_event.direction = -1   # only trigger when getting close\n",
    "    \n",
    "    # Initial conditions\n",
    "    y0 = [2290,0,0,0]\n",
    "    params = [k1_val, k2_val, theta1_val, theta2_val]\n",
    "    t_max = 5e4 \n",
    "    t_eval = np.linspace(0, t_max, 10000)\n",
    "    \n",
    "    # Run the integration\n",
    "    sol = solve_ivp(lambda t, y: Equs(y, t, params),\n",
    "                    t_span=[0, t_max], \n",
    "                    y0=y0,\n",
    "                    events=lambda t, y: steady_state_event(t, y, params),\n",
    "                    t_eval=t_eval,\n",
    "                    rtol=1e-8, \n",
    "                    atol=1e-10)\n",
    "    \n",
    "    print(\"solve_ivp: \", sol)\n",
    "                    \n",
    "    # Truncate solution at steady state time (if event was triggered)\n",
    "    if sol.t_events[0].size > 0:\n",
    "        T = sol.t_events[0][0] # time when steady state is reached\n",
    "        idx_T = np.searchsorted(sol.t, T)\n",
    "        t_used = sol.t[:idx_T + 1]\n",
    "        x1_vals = sol.y[1, :idx_T + 1]\n",
    "        e2_vals = sol.y[3, :idx_T + 1]\n",
    "    else:\n",
    "        print(\"Warning: Steady state not reached.\")\n",
    "        t_used = sol.t\n",
    "        x1_vals = sol.y[1]\n",
    "        e2_vals = sol.y[3]\n",
    "\n",
    "    # Compute integrand at each time point\n",
    "    integrand_vals = np.abs(V_in - e2_vals * (k_cat * x1_vals) / (k_m + x1_vals))\n",
    "    \n",
    "    # Compute the integral numerically using trap rule\n",
    "    integral_val = np.trapz(integrand_vals, t_used)\n",
    "    \n",
    "    print(f\"Integral up to steady state: {integral_val:.6f}\")             \n",
    "                    \n",
    "    # Extract time when steady state was reached\n",
    "    if sol.t_events[0].size > 0:\n",
    "        time_to_ss = sol.t_events[0][0]\n",
    "        print(f\"Time to reach steady state: {time_to_ss:.4f}\")\n",
    "    else:\n",
    "        print(\"Steady state not reached within time window.\")    \n",
    "    \n",
    "    #-------------------------------------------\n",
    "    \n",
    "    \n",
    "    # Check for NaN values before returning\n",
    "    if np.isnan(ans1) or np.isnan(ans2):\n",
    "        return np.inf, np.inf, np.inf\n",
    "    return ans1, ans2, integral_val\n"
   ]
  },
  {
   "cell_type": "code",
   "execution_count": 15,
   "metadata": {},
   "outputs": [],
   "source": [
    "# Sample rS1 values\n",
    "k1_min = 0.0000001\n",
    "k1_max = 0.001\n",
    "k1_sampsize = 3\n",
    "k1_samps = np.linspace(k1_min, k1_max, k1_sampsize)\n",
    "\n",
    "# Sample kS1 values\n",
    "k2_min = 0.0000001\n",
    "k2_max = 0.001\n",
    "k2_sampsize = 3\n",
    "k2_samps = np.linspace(k2_min, k2_max, k2_sampsize)\n",
    "\n",
    "# Sample kS2 values\n",
    "theta1_min = 0.001\n",
    "theta1_max = 10\n",
    "theta1_sampsize = 3\n",
    "theta1_samps = np.linspace(theta1_min, theta1_max, theta1_sampsize)\n",
    "\n",
    "# Sample kP values\n",
    "theta2_min = 0.001\n",
    "theta2_max = 10\n",
    "theta2_sampsize = 3\n",
    "theta2_samps = np.linspace(theta2_min, theta2_max, theta2_sampsize)"
   ]
  },
  {
   "cell_type": "code",
   "execution_count": 16,
   "metadata": {},
   "outputs": [],
   "source": [
    "# Create empty arrays to store ...\n",
    "# ... steady states\n",
    "x0ss_samps = np.array([])\n",
    "x1ss_samps = np.array([])\n",
    "# ... sensitivities\n",
    "sens1_samps = np.array([])\n",
    "sens2_samps = np.array([])"
   ]
  },
  {
   "cell_type": "code",
   "execution_count": 17,
   "metadata": {},
   "outputs": [
    {
     "name": "stderr",
     "output_type": "stream",
     "text": [
      "Gauging energies::  25%|██▍       | 20/81 [00:00<00:00, 95.08it/s]"
     ]
    },
    {
     "name": "stdout",
     "output_type": "stream",
     "text": [
      "[1e-07, 1e-07, 0.001, 0.001]\n",
      "[1e-07, 1e-07, 0.001, 5.000500000000001]\n",
      "[1e-07, 1e-07, 0.001, 10.0]\n",
      "[1e-07, 1e-07, 5.000500000000001, 0.001]\n",
      "[1e-07, 1e-07, 5.000500000000001, 5.000500000000001]\n",
      "[1e-07, 1e-07, 5.000500000000001, 10.0]\n",
      "[1e-07, 1e-07, 10.0, 0.001]\n",
      "[1e-07, 1e-07, 10.0, 5.000500000000001]\n",
      "[1e-07, 1e-07, 10.0, 10.0]\n",
      "[1e-07, 0.0005000499999999999, 0.001, 0.001]\n",
      "[1e-07, 0.0005000499999999999, 0.001, 5.000500000000001]\n",
      "[1e-07, 0.0005000499999999999, 0.001, 10.0]\n",
      "[1e-07, 0.0005000499999999999, 5.000500000000001, 0.001]\n",
      "[1e-07, 0.0005000499999999999, 5.000500000000001, 5.000500000000001]\n",
      "[1e-07, 0.0005000499999999999, 5.000500000000001, 10.0]\n",
      "[1e-07, 0.0005000499999999999, 10.0, 0.001]\n",
      "[1e-07, 0.0005000499999999999, 10.0, 5.000500000000001]\n",
      "[1e-07, 0.0005000499999999999, 10.0, 10.0]\n",
      "[1e-07, 0.001, 0.001, 0.001]\n",
      "[1e-07, 0.001, 0.001, 5.000500000000001]\n",
      "[1e-07, 0.001, 0.001, 10.0]\n",
      "[1e-07, 0.001, 5.000500000000001, 0.001]\n",
      "[1e-07, 0.001, 5.000500000000001, 5.000500000000001]\n",
      "[1e-07, 0.001, 5.000500000000001, 10.0]\n",
      "[1e-07, 0.001, 10.0, 0.001]\n",
      "[1e-07, 0.001, 10.0, 5.000500000000001]\n",
      "[1e-07, 0.001, 10.0, 10.0]\n",
      "[0.0005000499999999999, 1e-07, 0.001, 0.001]\n",
      "[0.0005000499999999999, 1e-07, 0.001, 5.000500000000001]\n",
      "[0.0005000499999999999, 1e-07, 0.001, 10.0]\n",
      "[0.0005000499999999999, 1e-07, 5.000500000000001, 0.001]\n",
      "[0.0005000499999999999, 1e-07, 5.000500000000001, 5.000500000000001]\n"
     ]
    },
    {
     "name": "stderr",
     "output_type": "stream",
     "text": [
      "Gauging energies::  64%|██████▍   | 52/81 [00:00<00:00, 54.27it/s] "
     ]
    },
    {
     "name": "stdout",
     "output_type": "stream",
     "text": [
      "[0.0005000499999999999, 1e-07, 5.000500000000001, 10.0]\n",
      "[0.0005000499999999999, 1e-07, 10.0, 0.001]\n",
      "[0.0005000499999999999, 1e-07, 10.0, 5.000500000000001]\n",
      "[0.0005000499999999999, 1e-07, 10.0, 10.0]\n",
      "[0.0005000499999999999, 0.0005000499999999999, 0.001, 0.001]\n",
      "[0.0005000499999999999, 0.0005000499999999999, 0.001, 5.000500000000001]\n",
      "[0.0005000499999999999, 0.0005000499999999999, 0.001, 10.0]\n",
      "[0.0005000499999999999, 0.0005000499999999999, 5.000500000000001, 0.001]\n",
      "[0.0005000499999999999, 0.0005000499999999999, 5.000500000000001, 5.000500000000001]\n",
      "[0.0005000499999999999, 0.0005000499999999999, 5.000500000000001, 10.0]\n",
      "[0.0005000499999999999, 0.0005000499999999999, 10.0, 0.001]\n",
      "[0.0005000499999999999, 0.0005000499999999999, 10.0, 5.000500000000001]\n",
      "[0.0005000499999999999, 0.0005000499999999999, 10.0, 10.0]\n",
      "[0.0005000499999999999, 0.001, 0.001, 0.001]\n",
      "[0.0005000499999999999, 0.001, 0.001, 5.000500000000001]\n",
      "[0.0005000499999999999, 0.001, 0.001, 10.0]\n",
      "[0.0005000499999999999, 0.001, 5.000500000000001, 0.001]\n",
      "[0.0005000499999999999, 0.001, 5.000500000000001, 5.000500000000001]\n",
      "[0.0005000499999999999, 0.001, 5.000500000000001, 10.0]\n",
      "[0.0005000499999999999, 0.001, 10.0, 0.001]\n"
     ]
    },
    {
     "name": "stderr",
     "output_type": "stream",
     "text": [
      "Gauging energies::  91%|█████████▏| 74/81 [00:01<00:00, 47.69it/s]"
     ]
    },
    {
     "name": "stdout",
     "output_type": "stream",
     "text": [
      "[0.0005000499999999999, 0.001, 10.0, 5.000500000000001]\n",
      "[0.0005000499999999999, 0.001, 10.0, 10.0]\n",
      "[0.001, 1e-07, 0.001, 0.001]\n",
      "[0.001, 1e-07, 0.001, 5.000500000000001]\n",
      "[0.001, 1e-07, 0.001, 10.0]\n",
      "[0.001, 1e-07, 5.000500000000001, 0.001]\n",
      "[0.001, 1e-07, 5.000500000000001, 5.000500000000001]\n",
      "[0.001, 1e-07, 5.000500000000001, 10.0]\n",
      "[0.001, 1e-07, 10.0, 0.001]\n",
      "[0.001, 1e-07, 10.0, 5.000500000000001]\n",
      "[0.001, 1e-07, 10.0, 10.0]\n",
      "[0.001, 0.0005000499999999999, 0.001, 0.001]\n",
      "[0.001, 0.0005000499999999999, 0.001, 5.000500000000001]\n",
      "[0.001, 0.0005000499999999999, 0.001, 10.0]\n",
      "[0.001, 0.0005000499999999999, 5.000500000000001, 0.001]\n",
      "[0.001, 0.0005000499999999999, 5.000500000000001, 5.000500000000001]\n",
      "[0.001, 0.0005000499999999999, 5.000500000000001, 10.0]\n",
      "[0.001, 0.0005000499999999999, 10.0, 0.001]\n",
      "[0.001, 0.0005000499999999999, 10.0, 5.000500000000001]\n",
      "[0.001, 0.0005000499999999999, 10.0, 10.0]\n",
      "[0.001, 0.001, 0.001, 0.001]\n",
      "[0.001, 0.001, 0.001, 5.000500000000001]\n"
     ]
    },
    {
     "name": "stderr",
     "output_type": "stream",
     "text": [
      "Gauging energies:: 100%|██████████| 81/81 [00:01<00:00, 57.81it/s]\n"
     ]
    },
    {
     "name": "stdout",
     "output_type": "stream",
     "text": [
      "[0.001, 0.001, 0.001, 10.0]\n",
      "[0.001, 0.001, 5.000500000000001, 0.001]\n",
      "[0.001, 0.001, 5.000500000000001, 5.000500000000001]\n",
      "[0.001, 0.001, 5.000500000000001, 10.0]\n",
      "[0.001, 0.001, 10.0, 0.001]\n",
      "[0.001, 0.001, 10.0, 5.000500000000001]\n",
      "[0.001, 0.001, 10.0, 10.0]\n"
     ]
    }
   ],
   "source": [
    "# WITH LOADING BAR \n",
    "# Compute the total number of iterations for tqdm\n",
    "total_iterations = k1_sampsize * k2_sampsize * theta1_sampsize * theta2_sampsize\n",
    "# Loop over every combination of parameters with a progress bar\n",
    "for i, j, k, l in tqdm(itertools.product(k1_samps, k2_samps, theta1_samps, theta2_samps), total=total_iterations, desc=\"Gauging energies:\"):\n",
    "    \n",
    "    print([i, j, k, l])\n",
    "\n",
    "    # Get steady states and store\n",
    "    x0ss, x1ss, e1ss, e2ss = ssfinder(i, j, k, l)\n",
    "    \n",
    "    x0ss_samps = np.append(x0ss_samps, x0ss)\n",
    "    x1ss_samps = np.append(x1ss_samps, x1ss)\n",
    "\n",
    "    # Get sensitivities and store\n",
    "    sens1, sens2 = senpair(x0ss, x1ss, e1ss, e2ss, i, j, k, l, choice1, choice2)\n",
    "    sens1_samps = np.append(sens1_samps, sens1)\n",
    "    sens2_samps = np.append(sens2_samps, sens2)\n",
    "\n",
    "# Get min and max of each sensitivity and print\n",
    "sens1_samps_min = np.nanmin(sens1_samps)\n",
    "sens2_samps_min = np.nanmin(sens2_samps)\n",
    "sens1_samps_max = np.nanmax(sens1_samps)\n",
    "sens2_samps_max = np.nanmax(sens2_samps)"
   ]
  },
  {
   "cell_type": "code",
   "execution_count": 18,
   "metadata": {},
   "outputs": [
    {
     "data": {
      "text/plain": [
       "array([2.29031113e+03, 2.29026041e+03, 2.29026040e+03, 2.28199178e+03,\n",
       "       2.27905186e+03, 2.27607160e+03, 2.27790376e+03, 2.27632534e+03,\n",
       "       2.27292972e+03, 2.28391600e+03, 2.27435812e+03, 2.27435812e+03,\n",
       "       2.28199116e+03, 2.25844667e+03, 2.25844667e+03, 2.27790345e+03,\n",
       "       2.25844666e+03, 2.25844666e+03, 2.27432425e+03, 2.26854134e+03,\n",
       "       2.26854134e+03, 2.28199054e+03, 2.25844666e+03, 2.25844666e+03,\n",
       "       2.27790314e+03, 2.25844666e+03, 2.25844666e+03, 2.28980243e+03,\n",
       "       2.28895823e+03, 2.28895580e+03, 2.13246160e+03, 2.13244172e+03,\n",
       "       2.13238230e+03, 2.03987133e+03, 2.03986326e+03, 2.03983910e+03,\n",
       "       2.28978327e+03, 1.94681866e+03, 1.94681549e+03, 2.13246160e+03,\n",
       "       3.27646574e-01, 3.27637167e-01, 2.03987133e+03, 3.26581331e-01,\n",
       "       3.26578978e-01, 2.28976306e+03, 1.74565401e+03, 1.74565086e+03,\n",
       "       2.13246160e+03, 3.26567732e-01, 3.26567195e-01, 2.03987133e+03,\n",
       "       3.26311542e-01, 3.26311407e-01, 2.28966200e+03, 2.28860834e+03,\n",
       "       2.28860349e+03, 2.09143609e+03, 2.09142341e+03, 2.09138547e+03,\n",
       "       1.97479803e+03, 1.97479291e+03, 1.97477757e+03, 2.28964715e+03,\n",
       "       1.85776042e+03, 1.85775407e+03, 2.09143609e+03, 1.62686862e-01,\n",
       "       1.62682046e-01, 1.97479803e+03, 1.62151818e-01, 1.62150614e-01,\n",
       "       2.28963179e+03, 1.60455863e+03, 1.60455232e+03, 2.09143609e+03,\n",
       "       1.62144915e-01, 1.62144640e-01, 1.97479803e+03, 1.62016298e-01,\n",
       "       1.62016229e-01])"
      ]
     },
     "execution_count": 18,
     "metadata": {},
     "output_type": "execute_result"
    }
   ],
   "source": [
    "x0ss_samps"
   ]
  },
  {
   "cell_type": "code",
   "execution_count": 19,
   "metadata": {},
   "outputs": [
    {
     "data": {
      "text/plain": [
       "array([3.17288148e-02, 1.96522041e-02, 1.96521461e-02, 8.39700425e+00,\n",
       "       6.75565165e+00, 5.55747173e+00, 1.25076570e+01, 1.12944030e+01,\n",
       "       9.12058453e+00, 1.99086504e-03, 9.97776502e-04, 9.97776487e-04,\n",
       "       8.39658321e+00, 1.99125712e-03, 1.99125688e-03, 1.25073993e+01,\n",
       "       1.99125736e-03, 1.99125712e-03, 9.95659917e-04, 6.80509200e-04,\n",
       "       6.80509194e-04, 8.39616213e+00, 9.95659915e-04, 9.95659885e-04,\n",
       "       1.25071416e+01, 9.95659945e-04, 9.95659915e-04, 5.43326047e-01,\n",
       "       3.39426928e-01, 3.39129513e-01, 1.58811365e+02, 1.58801349e+02,\n",
       "       1.58771423e+02, 2.52013798e+02, 2.52009727e+02, 2.51997536e+02,\n",
       "       5.33946653e-01, 2.15071914e-02, 2.15070916e-02, 1.58811363e+02,\n",
       "       3.27624789e-01, 3.26538135e-01, 2.52013797e+02, 3.27644316e-01,\n",
       "       3.26557338e-01, 5.24556359e-01, 1.70578699e-02, 1.70578200e-02,\n",
       "       1.58811361e+02, 1.60671708e-01, 1.60545383e-01, 2.52013797e+02,\n",
       "       1.60673959e-01, 1.60547625e-01, 6.84526225e-01, 4.28860087e-01,\n",
       "       4.28261432e-01, 2.00101460e+02, 2.00095073e+02, 2.00075960e+02,\n",
       "       3.17551505e+02, 3.17548921e+02, 3.17541178e+02, 6.77180958e-01,\n",
       "       2.71066139e-02, 2.71064142e-02, 2.00101459e+02, 3.30698497e-01,\n",
       "       3.29580600e-01, 3.17551504e+02, 3.30708633e-01, 3.29590564e-01,\n",
       "       6.69827305e-01, 2.14995887e-02, 2.14994890e-02, 2.00101458e+02,\n",
       "       1.62139712e-01, 1.62009872e-01, 3.17551504e+02, 1.62140879e-01,\n",
       "       1.62011035e-01])"
      ]
     },
     "execution_count": 19,
     "metadata": {},
     "output_type": "execute_result"
    }
   ],
   "source": [
    "x1ss_samps"
   ]
  },
  {
   "cell_type": "code",
   "execution_count": 22,
   "metadata": {},
   "outputs": [
    {
     "data": {
      "text/plain": [
       "(array([16.,  0.,  0., 44.,  5.,  1.,  4.,  1.,  0., 10.]),\n",
       " array([0.00908447, 0.10828022, 0.20747597, 0.30667173, 0.40586748,\n",
       "        0.50506323, 0.60425899, 0.70345474, 0.80265049, 0.90184625,\n",
       "        1.001042  ]),\n",
       " <BarContainer object of 10 artists>)"
      ]
     },
     "execution_count": 22,
     "metadata": {},
     "output_type": "execute_result"
    },
    {
     "data": {
      "image/png": "[encoded data removed]",
      "text/plain": [
       "<Figure size 640x480 with 1 Axes>"
      ]
     },
     "metadata": {},
     "output_type": "display_data"
    }
   ],
   "source": [
    "plt.hist(sens1_samps)"
   ]
  },
  {
   "cell_type": "code",
   "execution_count": null,
   "metadata": {},
   "outputs": [],
   "source": []
  }
 ],
 "metadata": {
  "kernelspec": {
   "display_name": "base",
   "language": "python",
   "name": "python3"
  },
  "language_info": {
   "codemirror_mode": {
    "name": "ipython",
    "version": 3
   },
   "file_extension": ".py",
   "mimetype": "text/x-python",
   "name": "python",
   "nbconvert_exporter": "python",
   "pygments_lexer": "ipython3",
   "version": "3.11.0"
  }
 },
 "nbformat": 4,
 "nbformat_minor": 2
}
