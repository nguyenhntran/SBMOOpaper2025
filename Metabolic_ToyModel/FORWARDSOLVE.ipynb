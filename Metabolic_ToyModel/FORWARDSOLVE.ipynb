{
 "cells": [
  {
   "cell_type": "code",
   "execution_count": 1,
   "metadata": {},
   "outputs": [],
   "source": [
    "# -------------- PART 0: PYTHON PRELIM --------------\n",
    "\n",
    "# Additional notes: \n",
    "# mosa.py evolve() function has been edited to return final stopping temperature\n",
    "\n",
    "# Import packages\n",
    "import importlib\n",
    "import os\n",
    "import time\n",
    "from tqdm import tqdm\n",
    "import itertools\n",
    "import numpy as np\n",
    "import json\n",
    "import mosa\n",
    "import matplotlib.pyplot as plt\n",
    "import pyvista as pv\n",
    "from mpl_toolkits.mplot3d.art3d import Poly3DCollection\n",
    "import matplotlib.patches as mpatches\n",
    "import matplotlib.lines as mlines\n",
    "from scipy.optimize import fsolve\n",
    "from scipy.integrate import solve_ivp\n",
    "from numpy import random\n",
    "import pandas as pd"
   ]
  },
  {
   "cell_type": "code",
   "execution_count": 3,
   "metadata": {},
   "outputs": [
    {
     "name": "stdout",
     "output_type": "stream",
     "text": [
      "Current working directory: /Users/nt625/Documents/GitHub/My5thMOSArepository_plsdontcrash/Metabolic_ToyModel/MOSA_ToyModel\n"
     ]
    }
   ],
   "source": [
    "# -------------- PART 0: CHOOSE CIRCUIT AND SET UP FOLDER --------------\n",
    "\n",
    "\n",
    "# Choose circuit\n",
    "circuit = \"ToyModel\"\n",
    "\n",
    "# Import circuit config file\n",
    "config = importlib.import_module(circuit)\n",
    "\n",
    "# Define the subfolder name\n",
    "folder_name = f\"MOSA_{circuit}\"\n",
    "\n",
    "# Create folder if not yet exist\n",
    "if not os.path.exists(folder_name):\n",
    "    os.makedirs(folder_name)\n",
    "\n",
    "# Jump to folder\n",
    "os.chdir(folder_name)\n",
    "\n",
    "# Prompt new folder name\n",
    "print(f\"Current working directory: {os.getcwd()}\")"
   ]
  },
  {
   "cell_type": "code",
   "execution_count": 4,
   "metadata": {},
   "outputs": [],
   "source": [
    "# -------------- PART 0b: DEFINE DYNAMICAL SYSTEM --------------\n",
    "\n",
    "# Import ODEs\n",
    "Equ1 = config.Equ1\n",
    "Equ2 = config.Equ2\n",
    "Equ3 = config.Equ3\n",
    "Equ4 = config.Equ4\n",
    "    \n",
    "# Define function to evaluate vector field\n",
    "def Equs(P, t, params):\n",
    "    x0 = P[0]\n",
    "    x1 = P[1]\n",
    "    e1 = P[2]\n",
    "    e2 = P[3]\n",
    "    k1 = params[0]\n",
    "    k2 = params[1]\n",
    "    theta1 = params[2]\n",
    "    theta2 = params[3]\n",
    "    val0 = Equ1(x0, e1)\n",
    "    val1 = Equ2(x0, x1, e1, e2)\n",
    "    val2 = Equ3(x1, e1, k1, theta1)\n",
    "    val3 = Equ4(x1, e2, k2, theta2)\n",
    "    return np.array([val0, val1, val2, val3])\n",
    "\n",
    "# Define initial time\n",
    "t = 0.0"
   ]
  },
  {
   "cell_type": "code",
   "execution_count": 15,
   "metadata": {},
   "outputs": [],
   "source": [
    "# Sample rS1 values\n",
    "k1_min = 0.0000001\n",
    "k1_max = 0.001\n",
    "k1_sampsize = 3\n",
    "k1_samps = np.linspace(k1_min, k1_max, k1_sampsize)\n",
    "\n",
    "# Sample kS1 values\n",
    "k2_min = 0.0000001\n",
    "k2_max = 0.001\n",
    "k2_sampsize = 3\n",
    "k2_samps = np.linspace(k2_min, k2_max, k2_sampsize)\n",
    "\n",
    "# Sample kS2 values\n",
    "theta1_min = 0.001\n",
    "theta1_max = 10\n",
    "theta1_sampsize = 3\n",
    "theta1_samps = np.linspace(theta1_min, theta1_max, theta1_sampsize)\n",
    "\n",
    "# Sample kP values\n",
    "theta2_min = 0.001\n",
    "theta2_max = 10\n",
    "theta2_sampsize = 3\n",
    "theta2_samps = np.linspace(theta2_min, theta2_max, theta2_sampsize)\n"
   ]
  },
  {
   "cell_type": "code",
   "execution_count": 45,
   "metadata": {},
   "outputs": [],
   "source": [
    "# Create empty arrays to store ...\n",
    "# ... steady states\n",
    "sol_samps = np.empty((0, 4))"
   ]
  },
  {
   "cell_type": "code",
   "execution_count": 47,
   "metadata": {},
   "outputs": [
    {
     "name": "stderr",
     "output_type": "stream",
     "text": [
      "Gauging energies:: 100%|██████████| 81/81 [01:15<00:00,  1.08it/s]\n"
     ]
    }
   ],
   "source": [
    "# WITH LOADING BAR \n",
    "# Compute the total number of iterations for tqdm\n",
    "total_iterations = k1_sampsize * k2_sampsize * theta1_sampsize * theta2_sampsize\n",
    "# Loop over every combination of parameters with a progress bar\n",
    "for i, j, k, l in tqdm(itertools.product(k1_samps, k2_samps, theta1_samps, theta2_samps), total=total_iterations, desc=\"Gauging energies:\"):\n",
    "    \n",
    "    # Get steady states and store\n",
    "\n",
    "    # Constants\n",
    "    V_in = 1\n",
    "    k_cat = 12\n",
    "    k_m = 10\n",
    "\n",
    "    # Initial conditions\n",
    "    y0 = [2290,0,0,0]\n",
    "    params = [i, j, k, l]\n",
    "    t_max = 5e4 \n",
    "    t_eval = np.linspace(0, t_max, 10000)\n",
    "\n",
    "    # Run the integration\n",
    "    sol = solve_ivp(lambda t, y: Equs(y, t, params),\n",
    "                    t_span=[0, t_max], \n",
    "                    y0=y0,\n",
    "                    t_eval=t_eval,\n",
    "                    rtol=1e-8, \n",
    "                    atol=1e-10)\n",
    "    \n",
    "    sol_samps = np.vstack([sol_samps, sol.y[:, -1]])"
   ]
  },
  {
   "cell_type": "code",
   "execution_count": 51,
   "metadata": {},
   "outputs": [
    {
     "data": {
      "text/plain": [
       "array([[2.29031113e+03, 3.17077307e-02, 5.14280224e-07, 5.14280224e-07],\n",
       "       [2.29026041e+03, 1.96522042e-02, 1.33806048e-06, 5.18093300e-04],\n",
       "       [2.29026041e+03, 1.96521462e-02, 1.33806838e-06, 5.18099312e-04],\n",
       "       [2.28199213e+03, 8.39655548e+00, 1.35630792e-04, 3.02896427e-10],\n",
       "       [2.27905187e+03, 6.75567978e+00, 1.83396328e-04, 1.83396328e-04],\n",
       "       [2.27607720e+03, 5.55746715e+00, 2.31800555e-04, 3.95843128e-04],\n",
       "       [2.27790286e+03, 1.25084437e+01, 2.02032939e-04, 2.98863215e-10],\n",
       "       [2.27631637e+03, 1.12946914e+01, 2.27713050e-04, 8.49547084e-05],\n",
       "       [2.27293021e+03, 9.12062057e+00, 2.82849788e-04, 2.82849788e-04],\n",
       "       [2.28392012e+03, 1.99086498e-03, 1.04381627e-04, 5.21960328e-01],\n",
       "       [2.27436880e+03, 9.97776710e-04, 2.59627302e-04, 2.59076562e+00],\n",
       "       [2.27436880e+03, 9.97776524e-04, 2.59627306e-04, 2.59076569e+00],\n",
       "       [2.28160809e+03, 8.39033199e+00, 1.36593467e-04, 2.14189842e-06],\n",
       "       [2.25846799e+03, 1.99125694e-03, 5.18101252e-04, 2.59076531e+00],\n",
       "       [2.25846799e+03, 1.99125689e-03, 5.18101252e-04, 2.59076562e+00],\n",
       "       [2.27745245e+03, 1.24963952e+01, 2.03037230e-04, 2.12160883e-06],\n",
       "       [2.25846799e+03, 1.99125736e-03, 5.18101313e-04, 2.59076531e+00],\n",
       "       [2.25846799e+03, 1.99125705e-03, 5.18101313e-04, 2.59076562e+00],\n",
       "       [2.27433488e+03, 9.95659895e-04, 2.60177528e-04, 2.60177528e+00],\n",
       "       [2.26855592e+03, 6.80509244e-04, 3.54113788e-04, 5.18101324e+00],\n",
       "       [2.26855592e+03, 6.80509257e-04, 3.54113789e-04, 5.18101332e+00],\n",
       "       [2.28050374e+03, 8.41198435e+00, 1.39824687e-04, 1.02522982e-05],\n",
       "       [2.25846799e+03, 9.95659914e-04, 5.18101313e-04, 5.18101313e+00],\n",
       "       [2.25846799e+03, 9.95659841e-04, 5.18101313e-04, 5.18101329e+00],\n",
       "       [2.27611601e+03, 1.25655799e+01, 2.06976734e-04, 1.02112186e-05],\n",
       "       [2.25846799e+03, 9.95659938e-04, 5.18101329e-04, 5.18101313e+00],\n",
       "       [2.25846799e+03, 9.95659931e-04, 5.18101329e-04, 5.18101329e+00],\n",
       "       [2.28980116e+03, 5.44649728e-01, 8.72195713e-06, 1.74421700e-09],\n",
       "       [2.28895839e+03, 3.39426909e-01, 2.24827501e-05, 5.15585090e-04],\n",
       "       [2.28895434e+03, 3.39129507e-01, 2.25257092e-05, 5.17472258e-04],\n",
       "       [2.13257125e+03, 1.58703533e+02, 2.56675786e-03, 4.20547749e-12],\n",
       "       [2.13255136e+03, 1.58693547e+02, 2.56708155e-03, 5.13364974e-07],\n",
       "       [2.13249242e+03, 1.58663635e+02, 2.56804736e-03, 2.04692963e-06],\n",
       "       [2.04000973e+03, 2.51877938e+02, 4.07438511e-03, 4.19315653e-12],\n",
       "       [2.04000153e+03, 2.51873893e+02, 4.07451690e-03, 2.04181023e-07],\n",
       "       [2.03997748e+03, 2.51861713e+02, 4.07491032e-03, 8.14900573e-07],\n",
       "       [2.28978165e+03, 5.34288505e-01, 9.04931037e-06, 9.04931037e-06],\n",
       "       [1.94704644e+03, 2.15071922e-02, 5.58885209e-03, 2.59071779e+00],\n",
       "       [1.94704327e+03, 2.15070923e-02, 5.58890381e-03, 2.59075374e+00],\n",
       "       [2.13255791e+03, 1.58705386e+02, 2.56680311e-03, 2.08096249e-08],\n",
       "       [1.60759106e+03, 7.61144563e+01, 1.11347066e-02, 1.11347066e-02],\n",
       "       [3.27668928e-01, 3.26564394e-01, 2.57968469e+00, 2.58796701e+00],\n",
       "       [2.03999642e+03, 2.51879602e+02, 4.07441941e-03, 2.07477139e-08],\n",
       "       [1.98859111e+03, 2.29808644e+02, 4.89851445e-03, 1.22771217e-03],\n",
       "       [9.10377953e+02, 1.06264407e+02, 2.27436587e-02, 2.27436587e-02],\n",
       "       [2.28976102e+03, 5.24564871e-01, 9.39049797e-06, 1.87791180e-05],\n",
       "       [1.74601216e+03, 1.70578713e-02, 8.87335901e-03, 5.18095305e+00],\n",
       "       [1.74600900e+03, 1.70578211e-02, 8.87341067e-03, 5.18099826e+00],\n",
       "       [2.13254457e+03, 1.58707241e+02, 2.56684749e-03, 4.16167828e-08],\n",
       "       [3.26598095e-01, 1.60686407e-01, 2.58802328e+00, 5.17552901e+00],\n",
       "       [3.26592039e-01, 1.60556308e-01, 2.58807059e+00, 5.17965821e+00],\n",
       "       [2.03998312e+03, 2.51881261e+02, 4.07445326e-03, 4.14929699e-08],\n",
       "       [1.90051575e+03, 2.02579890e+02, 6.30276732e-03, 3.16019638e-03],\n",
       "       [3.26335687e-01, 1.60559378e-01, 2.59007500e+00, 5.17963203e+00],\n",
       "       [2.28965952e+03, 6.87090344e-01, 1.09871764e-05, 1.09871764e-09],\n",
       "       [2.28861102e+03, 4.28859939e-01, 2.81574337e-05, 5.14012370e-04],\n",
       "       [2.28860191e+03, 4.28261409e-01, 2.82456414e-05, 5.17074259e-04],\n",
       "       [2.09160468e+03, 1.99936285e+02, 3.23387413e-03, 2.97338604e-12],\n",
       "       [2.09159200e+03, 1.99929917e+02, 3.23408073e-03, 3.23408073e-07],\n",
       "       [2.09155441e+03, 1.99910816e+02, 3.23469746e-03, 1.29063488e-06],\n",
       "       [1.97501790e+03, 3.17336889e+02, 5.13427861e-03, 2.96565451e-12],\n",
       "       [1.97501269e+03, 3.17334323e+02, 5.13436243e-03, 1.28617256e-07],\n",
       "       [1.97499743e+03, 3.17326589e+02, 5.13461244e-03, 5.13461244e-07],\n",
       "       [2.28964449e+03, 6.78585814e-01, 1.12383524e-05, 5.61973814e-06],\n",
       "       [1.85804624e+03, 2.71066154e-02, 7.04162950e-03, 2.59068959e+00],\n",
       "       [1.85803990e+03, 2.71064155e-02, 7.04173309e-03, 2.59074668e+00],\n",
       "       [2.09159526e+03, 1.99937497e+02, 3.23391372e-03, 1.47065516e-08],\n",
       "       [1.98562821e+03, 1.61513394e+02, 4.95978502e-03, 2.48014050e-03],\n",
       "       [1.62734345e-01, 3.29672932e-01, 5.15729024e+00, 2.58741218e+00],\n",
       "       [1.97500847e+03, 3.17338045e+02, 5.13430925e-03, 1.46675628e-08],\n",
       "       [1.94599390e+03, 3.03960308e+02, 5.60025682e-03, 7.01534715e-04],\n",
       "       [1.80057863e+03, 2.54565307e+02, 7.98099054e-03, 3.99089432e-03],\n",
       "       [2.28962887e+03, 6.70533859e-01, 1.14991800e-05, 1.14991800e-05],\n",
       "       [1.60500592e+03, 2.14995905e-02, 1.11844632e-02, 5.18091756e+00],\n",
       "       [1.60499961e+03, 2.14994908e-02, 1.11845668e-02, 5.18098939e+00],\n",
       "       [2.09158584e+03, 1.99938713e+02, 3.23395299e-03, 2.94107540e-08],\n",
       "       [1.32466008e+03, 9.04296536e+01, 1.57951639e-02, 1.57951639e-02],\n",
       "       [1.62157868e-01, 1.62021825e-01, 5.17549488e+00, 5.17960772e+00],\n",
       "       [1.97499904e+03, 3.17339201e+02, 5.13433970e-03, 2.93327832e-08],\n",
       "       [1.90942386e+03, 2.89310162e+02, 6.18518998e-03, 1.54954378e-03],\n",
       "       [1.62071926e-01, 1.62066729e-01, 5.17821999e+00, 5.17821999e+00]])"
      ]
     },
     "execution_count": 51,
     "metadata": {},
     "output_type": "execute_result"
    }
   ],
   "source": [
    "sol_samps"
   ]
  },
  {
   "cell_type": "code",
   "execution_count": 66,
   "metadata": {},
   "outputs": [
    {
     "data": {
      "text/plain": [
       "(array([ 7.,  0.,  0.,  1.,  0.,  1.,  0.,  6., 19., 47.]),\n",
       " array([1.62071926e-01, 2.29176978e+02, 4.58191885e+02, 6.87206791e+02,\n",
       "        9.16221697e+02, 1.14523660e+03, 1.37425151e+03, 1.60326642e+03,\n",
       "        1.83228132e+03, 2.06129623e+03, 2.29031113e+03]),\n",
       " <BarContainer object of 10 artists>)"
      ]
     },
     "execution_count": 66,
     "metadata": {},
     "output_type": "execute_result"
    },
    {
     "data": {
      "image/png": "[encoded data removed]",
      "text/plain": [
       "<Figure size 640x480 with 1 Axes>"
      ]
     },
     "metadata": {},
     "output_type": "display_data"
    }
   ],
   "source": [
    "plt.hist(sol_samps[:,0])"
   ]
  },
  {
   "cell_type": "code",
   "execution_count": 65,
   "metadata": {},
   "outputs": [
    {
     "data": {
      "text/plain": [
       "(array([52.,  0.,  2.,  1.,  1.,  5.,  6.,  6.,  1.,  7.]),\n",
       " array([6.80509244e-04, 3.17345325e+01, 6.34683846e+01, 9.52022366e+01,\n",
       "        1.26936089e+02, 1.58669941e+02, 1.90403793e+02, 2.22137645e+02,\n",
       "        2.53871497e+02, 2.85605349e+02, 3.17339201e+02]),\n",
       " <BarContainer object of 10 artists>)"
      ]
     },
     "execution_count": 65,
     "metadata": {},
     "output_type": "execute_result"
    },
    {
     "data": {
      "image/png": "[encoded data removed]",
      "text/plain": [
       "<Figure size 640x480 with 1 Axes>"
      ]
     },
     "metadata": {},
     "output_type": "display_data"
    }
   ],
   "source": [
    "plt.hist(sol_samps[:,1])"
   ]
  },
  {
   "cell_type": "code",
   "execution_count": 67,
   "metadata": {},
   "outputs": [
    {
     "data": {
      "text/plain": [
       "(array([74.,  0.,  0.,  0.,  3.,  1.,  0.,  0.,  0.,  3.]),\n",
       " array([5.14280224e-07, 5.17822462e-01, 1.03564441e+00, 1.55346636e+00,\n",
       "        2.07128831e+00, 2.58911025e+00, 3.10693220e+00, 3.62475415e+00,\n",
       "        4.14257610e+00, 4.66039805e+00, 5.17821999e+00]),\n",
       " <BarContainer object of 10 artists>)"
      ]
     },
     "execution_count": 67,
     "metadata": {},
     "output_type": "execute_result"
    },
    {
     "data": {
      "image/png": "[encoded data removed]",
      "text/plain": [
       "<Figure size 640x480 with 1 Axes>"
      ]
     },
     "metadata": {},
     "output_type": "display_data"
    }
   ],
   "source": [
    "plt.hist(sol_samps[:,2])"
   ]
  },
  {
   "cell_type": "code",
   "execution_count": 68,
   "metadata": {},
   "outputs": [
    {
     "data": {
      "text/plain": [
       "(array([52.,  1.,  0.,  0.,  2., 11.,  0.,  0.,  0., 15.]),\n",
       " array([2.96565451e-12, 5.18101332e-01, 1.03620266e+00, 1.55430399e+00,\n",
       "        2.07240533e+00, 2.59050666e+00, 3.10860799e+00, 3.62670932e+00,\n",
       "        4.14481065e+00, 4.66291198e+00, 5.18101332e+00]),\n",
       " <BarContainer object of 10 artists>)"
      ]
     },
     "execution_count": 68,
     "metadata": {},
     "output_type": "execute_result"
    },
    {
     "data": {
      "image/png": "[encoded data removed]",
      "text/plain": [
       "<Figure size 640x480 with 1 Axes>"
      ]
     },
     "metadata": {},
     "output_type": "display_data"
    }
   ],
   "source": [
    "plt.hist(sol_samps[:,3])"
   ]
  },
  {
   "cell_type": "code",
   "execution_count": null,
   "metadata": {},
   "outputs": [],
   "source": []
  }
 ],
 "metadata": {
  "kernelspec": {
   "display_name": "base",
   "language": "python",
   "name": "python3"
  },
  "language_info": {
   "codemirror_mode": {
    "name": "ipython",
    "version": 3
   },
   "file_extension": ".py",
   "mimetype": "text/x-python",
   "name": "python",
   "nbconvert_exporter": "python",
   "pygments_lexer": "ipython3",
   "version": "3.11.0"
  }
 },
 "nbformat": 4,
 "nbformat_minor": 2
}
